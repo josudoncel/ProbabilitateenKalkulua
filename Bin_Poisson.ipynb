{
 "cells": [
  {
   "cell_type": "markdown",
   "metadata": {},
   "source": [
    "# Banaketa binomiala eta Poisson-en banaketa\n",
    "\n",
    "### Helburua: \n",
    "n eta p parametrodun banaketa binomiala Poissonen banaketarekin hurbildu ahal dela ikustea (p<0.1 bada)"
   ]
  },
  {
   "cell_type": "code",
   "execution_count": 14,
   "metadata": {},
   "outputs": [
    {
     "name": "stdout",
     "output_type": "stream",
     "text": [
      "[1] \"P(X=1)-ren balioa n=10 denean\"\n",
      "[1] \"n eta p parametrodun banaketa binomialarako\"\n"
     ]
    },
    {
     "data": {
      "text/html": [
       "0.315124704862305"
      ],
      "text/latex": [
       "0.315124704862305"
      ],
      "text/markdown": [
       "0.315124704862305"
      ],
      "text/plain": [
       "[1] 0.3151247"
      ]
     },
     "metadata": {},
     "output_type": "display_data"
    },
    {
     "name": "stdout",
     "output_type": "stream",
     "text": [
      "[1] \"n bider p parametrodun Poisson-en banaketarako\"\n"
     ]
    },
    {
     "data": {
      "text/html": [
       "0.303265329856317"
      ],
      "text/latex": [
       "0.303265329856317"
      ],
      "text/markdown": [
       "0.303265329856317"
      ],
      "text/plain": [
       "[1] 0.3032653"
      ]
     },
     "metadata": {},
     "output_type": "display_data"
    }
   ],
   "source": [
    "p=0.05\n",
    "n=10\n",
    "print('P(X=1)-ren balioa n=10 denean')\n",
    "print('n eta p parametrodun banaketa binomialarako')\n",
    "dbinom(1, n, p) \n",
    "print('n bider p parametrodun Poisson-en banaketarako')\n",
    "dpois(1,lambda=n*p)"
   ]
  },
  {
   "cell_type": "code",
   "execution_count": 16,
   "metadata": {},
   "outputs": [
    {
     "name": "stdout",
     "output_type": "stream",
     "text": [
      "[1] \"P(X=1)-ren balioa n=20 denean\"\n",
      "[1] \"n eta p parametrodun banaketa binomialarako\"\n"
     ]
    },
    {
     "data": {
      "text/html": [
       "0.377353602535308"
      ],
      "text/latex": [
       "0.377353602535308"
      ],
      "text/markdown": [
       "0.377353602535308"
      ],
      "text/plain": [
       "[1] 0.3773536"
      ]
     },
     "metadata": {},
     "output_type": "display_data"
    },
    {
     "name": "stdout",
     "output_type": "stream",
     "text": [
      "[1] \"n bider p parametrodun Poisson-en banaketarako\"\n"
     ]
    },
    {
     "data": {
      "text/html": [
       "0.367879441171442"
      ],
      "text/latex": [
       "0.367879441171442"
      ],
      "text/markdown": [
       "0.367879441171442"
      ],
      "text/plain": [
       "[1] 0.3678794"
      ]
     },
     "metadata": {},
     "output_type": "display_data"
    }
   ],
   "source": [
    "# orain n=20 aztertutko dugu\n",
    "n=20\n",
    "print('P(X=1)-ren balioa n=20 denean')\n",
    "print('n eta p parametrodun banaketa binomialarako')\n",
    "dbinom(1, n, p) \n",
    "print('n bider p parametrodun Poisson-en banaketarako')\n",
    "dpois(1,lambda=n*p)"
   ]
  },
  {
   "cell_type": "code",
   "execution_count": 17,
   "metadata": {
    "scrolled": true
   },
   "outputs": [
    {
     "name": "stdout",
     "output_type": "stream",
     "text": [
      "[1] \"P(X=1)-ren balioa n=20 denean\"\n",
      "[1] \"n eta p parametrodun banaketa binomialarako\"\n"
     ]
    },
    {
     "data": {
      "text/html": [
       "0.0311606801070212"
      ],
      "text/latex": [
       "0.0311606801070212"
      ],
      "text/markdown": [
       "0.0311606801070212"
      ],
      "text/plain": [
       "[1] 0.03116068"
      ]
     },
     "metadata": {},
     "output_type": "display_data"
    },
    {
     "name": "stdout",
     "output_type": "stream",
     "text": [
      "[1] \"n bider p parametrodun Poisson-en banaketarako\"\n"
     ]
    },
    {
     "data": {
      "text/html": [
       "0.0336897349954273"
      ],
      "text/latex": [
       "0.0336897349954273"
      ],
      "text/markdown": [
       "0.0336897349954273"
      ],
      "text/plain": [
       "[1] 0.03368973"
      ]
     },
     "metadata": {},
     "output_type": "display_data"
    }
   ],
   "source": [
    "# orain n=100 aztertutko dugu\n",
    "n=100\n",
    "print('P(X=1)-ren balioa n=20 denean')\n",
    "print('n eta p parametrodun banaketa binomialarako')\n",
    "dbinom(1, n, p) \n",
    "print('n bider p parametrodun Poisson-en banaketarako')\n",
    "dpois(1,lambda=n*p)"
   ]
  },
  {
   "cell_type": "markdown",
   "metadata": {},
   "source": [
    "### Azalpena: \n",
    "Ikusten da P(X=1) bi kasuetan (Banaketa binomiala eta Poisson-en banaketa) hurbiltzen direla n handitzen bada\n",
    "\n"
   ]
  },
  {
   "cell_type": "code",
   "execution_count": 29,
   "metadata": {},
   "outputs": [
    {
     "name": "stdout",
     "output_type": "stream",
     "text": [
      "[1] \"P(X=5)-ren balioa n=20 denean\"\n",
      "[1] \"n eta p parametrodun banaketa binomialarako\"\n"
     ]
    },
    {
     "data": {
      "text/html": [
       "0.00129449352228766"
      ],
      "text/latex": [
       "0.00129449352228766"
      ],
      "text/markdown": [
       "0.00129449352228766"
      ],
      "text/plain": [
       "[1] 0.001294494"
      ]
     },
     "metadata": {},
     "output_type": "display_data"
    },
    {
     "name": "stdout",
     "output_type": "stream",
     "text": [
      "[1] \"n bider p parametrodun Poisson-en banaketarako\"\n"
     ]
    },
    {
     "data": {
      "text/html": [
       "0.0127406387358614"
      ],
      "text/latex": [
       "0.0127406387358614"
      ],
      "text/markdown": [
       "0.0127406387358614"
      ],
      "text/plain": [
       "[1] 0.01274064"
      ]
     },
     "metadata": {},
     "output_type": "display_data"
    },
    {
     "name": "stdout",
     "output_type": "stream",
     "text": [
      "[1] \"P(X=3)-ren balioa n=20 denean\"\n",
      "[1] \"n eta p parametrodun banaketa binomialarako\"\n"
     ]
    },
    {
     "data": {
      "text/html": [
       "0.0354974395564819"
      ],
      "text/latex": [
       "0.0354974395564819"
      ],
      "text/markdown": [
       "0.0354974395564819"
      ],
      "text/plain": [
       "[1] 0.03549744"
      ]
     },
     "metadata": {},
     "output_type": "display_data"
    },
    {
     "name": "stdout",
     "output_type": "stream",
     "text": [
      "[1] \"n bider p parametrodun Poisson-en banaketarako\"\n"
     ]
    },
    {
     "data": {
      "text/html": [
       "0.0655232849272871"
      ],
      "text/latex": [
       "0.0655232849272871"
      ],
      "text/markdown": [
       "0.0655232849272871"
      ],
      "text/plain": [
       "[1] 0.06552328"
      ]
     },
     "metadata": {},
     "output_type": "display_data"
    }
   ],
   "source": [
    "#P(X=1) ordez beste balio batekin egingo dugu\n",
    "\n",
    "n=20\n",
    "k=5\n",
    "print('P(X=5)-ren balioa n=20 denean')\n",
    "print('n eta p parametrodun banaketa binomialarako')\n",
    "dbinom(k, n, p) \n",
    "print('n bider p parametrodun Poisson-en banaketarako')\n",
    "dpois(k,lambda=n*p)\n",
    "\n",
    "n=20\n",
    "k=8\n",
    "print('P(X=3)-ren balioa n=20 denean')\n",
    "print('n eta p parametrodun banaketa binomialarako')\n",
    "dbinom(k, n, p) \n",
    "print('n bider p parametrodun Poisson-en banaketarako')\n",
    "dpois(k,lambda=n*p)"
   ]
  },
  {
   "cell_type": "code",
   "execution_count": null,
   "metadata": {},
   "outputs": [],
   "source": []
  }
 ],
 "metadata": {
  "kernelspec": {
   "display_name": "R",
   "language": "R",
   "name": "ir"
  },
  "language_info": {
   "codemirror_mode": "r",
   "file_extension": ".r",
   "mimetype": "text/x-r-source",
   "name": "R",
   "pygments_lexer": "r",
   "version": "3.6.3"
  }
 },
 "nbformat": 4,
 "nbformat_minor": 4
}
